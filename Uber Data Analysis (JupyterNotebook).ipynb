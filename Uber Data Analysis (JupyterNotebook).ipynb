{
 "cells": [
  {
   "cell_type": "markdown",
   "id": "23de4cd1",
   "metadata": {},
   "source": [
    "# Uber Data Analysis"
   ]
  },
  {
   "cell_type": "markdown",
   "id": "98eb7239",
   "metadata": {},
   "source": [
    "### Importing the Essential Packages"
   ]
  },
  {
   "cell_type": "code",
   "execution_count": 4,
   "id": "8b542b9e",
   "metadata": {},
   "outputs": [],
   "source": [
    "# install.packages(\"package_name\") in R console\n",
    "library(ggplot2)\n",
    "# library(ggthemes)\n",
    "library(lubridate)\n",
    "library(dplyr)\n",
    "library(tidyr)\n",
    "library(DT)\n",
    "library(scales)"
   ]
  },
  {
   "cell_type": "code",
   "execution_count": 5,
   "id": "277a3c6e",
   "metadata": {},
   "outputs": [
    {
     "data": {
      "text/html": [
       "<ol class=list-inline>\n",
       "\t<li>'#CC1011'</li>\n",
       "\t<li>'#665555'</li>\n",
       "\t<li>'#05a399'</li>\n",
       "\t<li>'#cfcaca'</li>\n",
       "\t<li>'#f5e840'</li>\n",
       "\t<li>'#0683c9'</li>\n",
       "\t<li>'#e075b0'</li>\n",
       "</ol>\n"
      ],
      "text/latex": [
       "\\begin{enumerate*}\n",
       "\\item '\\#CC1011'\n",
       "\\item '\\#665555'\n",
       "\\item '\\#05a399'\n",
       "\\item '\\#cfcaca'\n",
       "\\item '\\#f5e840'\n",
       "\\item '\\#0683c9'\n",
       "\\item '\\#e075b0'\n",
       "\\end{enumerate*}\n"
      ],
      "text/markdown": [
       "1. '#CC1011'\n",
       "2. '#665555'\n",
       "3. '#05a399'\n",
       "4. '#cfcaca'\n",
       "5. '#f5e840'\n",
       "6. '#0683c9'\n",
       "7. '#e075b0'\n",
       "\n",
       "\n"
      ],
      "text/plain": [
       "[1] \"#CC1011\" \"#665555\" \"#05a399\" \"#cfcaca\" \"#f5e840\" \"#0683c9\" \"#e075b0\""
      ]
     },
     "metadata": {},
     "output_type": "display_data"
    }
   ],
   "source": [
    "# Creating vector of colors for the plots\n",
    "colors = c(\"#CC1011\", \"#665555\", \"#05a399\", \"#cfcaca\", \"#f5e840\", \"#0683c9\", \"#e075b0\")\n",
    "colors"
   ]
  },
  {
   "cell_type": "code",
   "execution_count": 6,
   "id": "adcfff62",
   "metadata": {},
   "outputs": [],
   "source": [
    "# Read the data for each month separately \n",
    "apr <- read.csv(\"D:/AMIR/Programming/Data Science/R Projects/Uber Data Analysis/Dataset/uber-raw-data-apr14.csv\")\n",
    "may <- read.csv(\"D:/AMIR/Programming/Data Science/R Projects/Uber Data Analysis/Dataset/uber-raw-data-may14.csv\")\n",
    "june <- read.csv(\"D:/AMIR/Programming/Data Science/R Projects/Uber Data Analysis/Dataset/uber-raw-data-jun14.csv\")\n",
    "july <- read.csv(\"D:/AMIR/Programming/Data Science/R Projects/Uber Data Analysis/Dataset/uber-raw-data-jul14.csv\")\n",
    "aug <- read.csv(\"D:/AMIR/Programming/Data Science/R Projects/Uber Data Analysis/Dataset/uber-raw-data-aug14.csv\")\n",
    "sept <- read.csv(\"D:/AMIR/Programming/Data Science/R Projects/Uber Data Analysis/Dataset/uber-raw-data-sep14.csv\")"
   ]
  },
  {
   "cell_type": "code",
   "execution_count": 7,
   "id": "31612de3",
   "metadata": {},
   "outputs": [
    {
     "name": "stdout",
     "output_type": "stream",
     "text": [
      "The dimensions of the data are: 4534327 4"
     ]
    }
   ],
   "source": [
    "# Combine the data together \n",
    "data <- rbind(apr, may, june, july, aug, sept)\n",
    "cat(\"The dimensions of the data are:\", dim(data))"
   ]
  },
  {
   "cell_type": "code",
   "execution_count": 8,
   "id": "8f77fa73",
   "metadata": {},
   "outputs": [
    {
     "data": {
      "text/html": [
       "<table>\n",
       "<thead><tr><th scope=col>Date.Time</th><th scope=col>Lat</th><th scope=col>Lon</th><th scope=col>Base</th></tr></thead>\n",
       "<tbody>\n",
       "\t<tr><td>4/1/2014 0:11:00</td><td>40.7690         </td><td>-73.9549        </td><td>B02512          </td></tr>\n",
       "\t<tr><td>4/1/2014 0:17:00</td><td>40.7267         </td><td>-74.0345        </td><td>B02512          </td></tr>\n",
       "\t<tr><td>4/1/2014 0:21:00</td><td>40.7316         </td><td>-73.9873        </td><td>B02512          </td></tr>\n",
       "\t<tr><td>4/1/2014 0:28:00</td><td>40.7588         </td><td>-73.9776        </td><td>B02512          </td></tr>\n",
       "\t<tr><td>4/1/2014 0:33:00</td><td>40.7594         </td><td>-73.9722        </td><td>B02512          </td></tr>\n",
       "\t<tr><td>4/1/2014 0:33:00</td><td>40.7383         </td><td>-74.0403        </td><td>B02512          </td></tr>\n",
       "</tbody>\n",
       "</table>\n"
      ],
      "text/latex": [
       "\\begin{tabular}{r|llll}\n",
       " Date.Time & Lat & Lon & Base\\\\\n",
       "\\hline\n",
       "\t 4/1/2014 0:11:00 & 40.7690          & -73.9549         & B02512          \\\\\n",
       "\t 4/1/2014 0:17:00 & 40.7267          & -74.0345         & B02512          \\\\\n",
       "\t 4/1/2014 0:21:00 & 40.7316          & -73.9873         & B02512          \\\\\n",
       "\t 4/1/2014 0:28:00 & 40.7588          & -73.9776         & B02512          \\\\\n",
       "\t 4/1/2014 0:33:00 & 40.7594          & -73.9722         & B02512          \\\\\n",
       "\t 4/1/2014 0:33:00 & 40.7383          & -74.0403         & B02512          \\\\\n",
       "\\end{tabular}\n"
      ],
      "text/markdown": [
       "\n",
       "| Date.Time | Lat | Lon | Base |\n",
       "|---|---|---|---|\n",
       "| 4/1/2014 0:11:00 | 40.7690          | -73.9549         | B02512           |\n",
       "| 4/1/2014 0:17:00 | 40.7267          | -74.0345         | B02512           |\n",
       "| 4/1/2014 0:21:00 | 40.7316          | -73.9873         | B02512           |\n",
       "| 4/1/2014 0:28:00 | 40.7588          | -73.9776         | B02512           |\n",
       "| 4/1/2014 0:33:00 | 40.7594          | -73.9722         | B02512           |\n",
       "| 4/1/2014 0:33:00 | 40.7383          | -74.0403         | B02512           |\n",
       "\n"
      ],
      "text/plain": [
       "  Date.Time        Lat     Lon      Base  \n",
       "1 4/1/2014 0:11:00 40.7690 -73.9549 B02512\n",
       "2 4/1/2014 0:17:00 40.7267 -74.0345 B02512\n",
       "3 4/1/2014 0:21:00 40.7316 -73.9873 B02512\n",
       "4 4/1/2014 0:28:00 40.7588 -73.9776 B02512\n",
       "5 4/1/2014 0:33:00 40.7594 -73.9722 B02512\n",
       "6 4/1/2014 0:33:00 40.7383 -74.0403 B02512"
      ]
     },
     "metadata": {},
     "output_type": "display_data"
    }
   ],
   "source": [
    "# Print the first 6 rows of the data\n",
    "head(data)"
   ]
  },
  {
   "cell_type": "code",
   "execution_count": 9,
   "id": "c52faa3a",
   "metadata": {},
   "outputs": [
    {
     "data": {
      "text/html": [
       "<table>\n",
       "<thead><tr><th scope=col>Date.Time</th><th scope=col>Lat</th><th scope=col>Lon</th><th scope=col>Base</th><th scope=col>Time</th></tr></thead>\n",
       "<tbody>\n",
       "\t<tr><td>2014-04-01 00:11:00</td><td>40.7690            </td><td>-73.9549           </td><td>B02512             </td><td>00:11:00           </td></tr>\n",
       "\t<tr><td>2014-04-01 00:17:00</td><td>40.7267            </td><td>-74.0345           </td><td>B02512             </td><td>00:17:00           </td></tr>\n",
       "\t<tr><td>2014-04-01 00:21:00</td><td>40.7316            </td><td>-73.9873           </td><td>B02512             </td><td>00:21:00           </td></tr>\n",
       "\t<tr><td>2014-04-01 00:28:00</td><td>40.7588            </td><td>-73.9776           </td><td>B02512             </td><td>00:28:00           </td></tr>\n",
       "\t<tr><td>2014-04-01 00:33:00</td><td>40.7594            </td><td>-73.9722           </td><td>B02512             </td><td>00:33:00           </td></tr>\n",
       "\t<tr><td>2014-04-01 00:33:00</td><td>40.7383            </td><td>-74.0403           </td><td>B02512             </td><td>00:33:00           </td></tr>\n",
       "</tbody>\n",
       "</table>\n"
      ],
      "text/latex": [
       "\\begin{tabular}{r|lllll}\n",
       " Date.Time & Lat & Lon & Base & Time\\\\\n",
       "\\hline\n",
       "\t 2014-04-01 00:11:00 & 40.7690             & -73.9549            & B02512              & 00:11:00           \\\\\n",
       "\t 2014-04-01 00:17:00 & 40.7267             & -74.0345            & B02512              & 00:17:00           \\\\\n",
       "\t 2014-04-01 00:21:00 & 40.7316             & -73.9873            & B02512              & 00:21:00           \\\\\n",
       "\t 2014-04-01 00:28:00 & 40.7588             & -73.9776            & B02512              & 00:28:00           \\\\\n",
       "\t 2014-04-01 00:33:00 & 40.7594             & -73.9722            & B02512              & 00:33:00           \\\\\n",
       "\t 2014-04-01 00:33:00 & 40.7383             & -74.0403            & B02512              & 00:33:00           \\\\\n",
       "\\end{tabular}\n"
      ],
      "text/markdown": [
       "\n",
       "| Date.Time | Lat | Lon | Base | Time |\n",
       "|---|---|---|---|---|\n",
       "| 2014-04-01 00:11:00 | 40.7690             | -73.9549            | B02512              | 00:11:00            |\n",
       "| 2014-04-01 00:17:00 | 40.7267             | -74.0345            | B02512              | 00:17:00            |\n",
       "| 2014-04-01 00:21:00 | 40.7316             | -73.9873            | B02512              | 00:21:00            |\n",
       "| 2014-04-01 00:28:00 | 40.7588             | -73.9776            | B02512              | 00:28:00            |\n",
       "| 2014-04-01 00:33:00 | 40.7594             | -73.9722            | B02512              | 00:33:00            |\n",
       "| 2014-04-01 00:33:00 | 40.7383             | -74.0403            | B02512              | 00:33:00            |\n",
       "\n"
      ],
      "text/plain": [
       "  Date.Time           Lat     Lon      Base   Time    \n",
       "1 2014-04-01 00:11:00 40.7690 -73.9549 B02512 00:11:00\n",
       "2 2014-04-01 00:17:00 40.7267 -74.0345 B02512 00:17:00\n",
       "3 2014-04-01 00:21:00 40.7316 -73.9873 B02512 00:21:00\n",
       "4 2014-04-01 00:28:00 40.7588 -73.9776 B02512 00:28:00\n",
       "5 2014-04-01 00:33:00 40.7594 -73.9722 B02512 00:33:00\n",
       "6 2014-04-01 00:33:00 40.7383 -74.0403 B02512 00:33:00"
      ]
     },
     "metadata": {},
     "output_type": "display_data"
    }
   ],
   "source": [
    "# Readable format for the DateTime\n",
    "data$Date.Time <- as.POSIXct(data$Date.Time, format=\"%m/%d/%Y %H:%M:%S\")\n",
    "data$Time <- format(as.POSIXct(data$Date.Time, format = \"%m/%d/%Y %H:%M:%S\"), format=\"%H:%M:%S\")\n",
    "data$Date.Time <- ymd_hms(data$Date.Time)\n",
    "head(data)"
   ]
  }
 ],
 "metadata": {
  "kernelspec": {
   "display_name": "R",
   "language": "R",
   "name": "ir"
  },
  "language_info": {
   "codemirror_mode": "r",
   "file_extension": ".r",
   "mimetype": "text/x-r-source",
   "name": "R",
   "pygments_lexer": "r",
   "version": "3.6.1"
  }
 },
 "nbformat": 4,
 "nbformat_minor": 5
}
